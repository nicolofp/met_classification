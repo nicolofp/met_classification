{
 "cells": [
  {
   "cell_type": "markdown",
   "id": "63dee5a6",
   "metadata": {},
   "source": [
    "# Data cleaning\n",
    "---\n",
    "\n",
    "Metabolites are small molecules that are involved in various biochemical processes within living organisms. They are the end products of metabolic pathways or intermediates involved in the conversion of one molecule to another. Metabolites play essential roles in cellular functions, including energy production, signaling, growth, and maintenance of cellular structures. Metabolomic data refers to the comprehensive analysis of metabolites present in a biological system. It involves the identification, quantification, and characterization of metabolites within a given sample or set of samples. Metabolomic studies aim to provide a snapshot of the metabolic state of an organism, tissue, or cell under specific conditions, such as disease, drug treatment, or environmental exposure. Metabolomic data sets are typically complex and high-dimensional, with multiple variables (metabolites) and samples. Analyzing and interpreting such data requires sophisticated statistical and computational approaches. By analyzing metabolomic data, researchers can identify biomarkers associated with specific conditions, uncover metabolic pathways or networks relevant to diseases, study drug metabolism, and gain insights into the biochemical mechanisms underlying physiological or pathological processes. Metabolomic data provides valuable insights into the biochemical composition and metabolic state of biological systems, contributing to our understanding of health, diseases, and the impact of various external factors on organisms."
   ]
  },
  {
   "cell_type": "code",
   "execution_count": 2,
   "id": "aa7f3851",
   "metadata": {},
   "outputs": [],
   "source": [
    "using DataFrames, Arrow\n",
    "using LinearAlgebra, Distributions, Statistics, HypothesisTests\n",
    "using UMAP, Distances, StatsBase, TSne, Optim\n",
    "using Plots, StatsPlots "
   ]
  },
  {
   "cell_type": "code",
   "execution_count": 4,
   "id": "c2145811",
   "metadata": {},
   "outputs": [],
   "source": [
    "df = DataFrame(Arrow.Table(\"C:/Users/nicol/Documents/Datasets/ST001828/covariates.arrow\"));\n",
    "btpos = DataFrame(Arrow.Table(\"C:/Users/nicol/Documents/Datasets/ST001828/btpos.arrow\"));\n",
    "btpos_c = DataFrame(Arrow.Table(\"C:/Users/nicol/Documents/Datasets/ST001828/btpos_code.arrow\"));"
   ]
  },
  {
   "cell_type": "code",
   "execution_count": 63,
   "id": "425317c2",
   "metadata": {},
   "outputs": [],
   "source": [
    "tmp = sum(ismissing.(Matrix(btpos[:,2:101])), dims = 2)\n",
    "tmp1 = DataFrame(metabolite = Array(string.(btpos.Metabolite)),\n",
    "                 NAs = tmp[:,1]);"
   ]
  },
  {
   "cell_type": "code",
   "execution_count": 68,
   "id": "93526962",
   "metadata": {},
   "outputs": [],
   "source": [
    "# Select the metabolites with <=25% of missing data\n",
    "valid_met = tmp1[tmp1.NAs .<= 25,\"metabolite\"];"
   ]
  },
  {
   "cell_type": "markdown",
   "id": "a88d606f",
   "metadata": {},
   "source": [
    "## Imputation\n",
    "---\n",
    "KNN or RandomForest to impute missing data &rightarrow; median?"
   ]
  },
  {
   "cell_type": "code",
   "execution_count": null,
   "id": "b11015d7",
   "metadata": {},
   "outputs": [],
   "source": []
  }
 ],
 "metadata": {
  "kernelspec": {
   "display_name": "Julia 1.6.1",
   "language": "julia",
   "name": "julia-1.6"
  },
  "language_info": {
   "file_extension": ".jl",
   "mimetype": "application/julia",
   "name": "julia",
   "version": "1.6.1"
  }
 },
 "nbformat": 4,
 "nbformat_minor": 5
}
